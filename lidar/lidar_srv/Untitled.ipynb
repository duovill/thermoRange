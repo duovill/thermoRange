{
 "cells": [
  {
   "cell_type": "code",
   "execution_count": 46,
   "metadata": {},
   "outputs": [],
   "source": [
    "import pandas as pd\n",
    "import math\n",
    "from mpl_toolkits.mplot3d import Axes3D  # noqa: F401 unused import\n",
    "\n",
    "import matplotlib.pyplot as plt\n",
    "import numpy as np\n",
    "import open3d as o3d"
   ]
  },
  {
   "cell_type": "code",
   "execution_count": 69,
   "metadata": {},
   "outputs": [],
   "source": [
    "df = pd.read_csv('./out.csv', header=None, names=['i', 'j', 'd'])"
   ]
  },
  {
   "cell_type": "code",
   "execution_count": 70,
   "metadata": {},
   "outputs": [],
   "source": [
    "rad = 0.0174532925"
   ]
  },
  {
   "cell_type": "code",
   "execution_count": 71,
   "metadata": {},
   "outputs": [],
   "source": [
    "df['a0'] = df['i']*rad*1.8/2\n",
    "df['a1'] = df['j']*rad*1.8"
   ]
  },
  {
   "cell_type": "code",
   "execution_count": 72,
   "metadata": {},
   "outputs": [],
   "source": [
    "df['x'] = df.apply(lambda r: r['d']*math.sin(r['a0'])*math.cos(r['a1']), axis=1)\n",
    "df['y'] = df.apply(lambda r: r['d']*math.sin(r['a0'])*math.sin(r['a1']), axis=1)\n",
    "df['z'] = df.apply(lambda r: r['d']*math.cos(r['a0']), axis=1)"
   ]
  },
  {
   "cell_type": "code",
   "execution_count": 73,
   "metadata": {},
   "outputs": [],
   "source": [
    "data = np.array(df[['x', 'y', 'z']])"
   ]
  },
  {
   "cell_type": "code",
   "execution_count": 74,
   "metadata": {},
   "outputs": [
    {
     "data": {
      "text/html": [
       "<div>\n",
       "<style scoped>\n",
       "    .dataframe tbody tr th:only-of-type {\n",
       "        vertical-align: middle;\n",
       "    }\n",
       "\n",
       "    .dataframe tbody tr th {\n",
       "        vertical-align: top;\n",
       "    }\n",
       "\n",
       "    .dataframe thead th {\n",
       "        text-align: right;\n",
       "    }\n",
       "</style>\n",
       "<table border=\"1\" class=\"dataframe\">\n",
       "  <thead>\n",
       "    <tr style=\"text-align: right;\">\n",
       "      <th></th>\n",
       "      <th>i</th>\n",
       "      <th>j</th>\n",
       "      <th>d</th>\n",
       "      <th>a0</th>\n",
       "      <th>a1</th>\n",
       "      <th>x</th>\n",
       "      <th>y</th>\n",
       "      <th>z</th>\n",
       "    </tr>\n",
       "  </thead>\n",
       "  <tbody>\n",
       "    <tr>\n",
       "      <th>0</th>\n",
       "      <td>0</td>\n",
       "      <td>0</td>\n",
       "      <td>5</td>\n",
       "      <td>0.000000</td>\n",
       "      <td>0.000000</td>\n",
       "      <td>0.000000</td>\n",
       "      <td>0.000000</td>\n",
       "      <td>5.000000</td>\n",
       "    </tr>\n",
       "    <tr>\n",
       "      <th>1</th>\n",
       "      <td>0</td>\n",
       "      <td>1</td>\n",
       "      <td>1</td>\n",
       "      <td>0.000000</td>\n",
       "      <td>0.031416</td>\n",
       "      <td>0.000000</td>\n",
       "      <td>0.000000</td>\n",
       "      <td>1.000000</td>\n",
       "    </tr>\n",
       "    <tr>\n",
       "      <th>2</th>\n",
       "      <td>0</td>\n",
       "      <td>2</td>\n",
       "      <td>5</td>\n",
       "      <td>0.000000</td>\n",
       "      <td>0.062832</td>\n",
       "      <td>0.000000</td>\n",
       "      <td>0.000000</td>\n",
       "      <td>5.000000</td>\n",
       "    </tr>\n",
       "    <tr>\n",
       "      <th>3</th>\n",
       "      <td>0</td>\n",
       "      <td>3</td>\n",
       "      <td>1</td>\n",
       "      <td>0.000000</td>\n",
       "      <td>0.094248</td>\n",
       "      <td>0.000000</td>\n",
       "      <td>0.000000</td>\n",
       "      <td>1.000000</td>\n",
       "    </tr>\n",
       "    <tr>\n",
       "      <th>4</th>\n",
       "      <td>0</td>\n",
       "      <td>4</td>\n",
       "      <td>1</td>\n",
       "      <td>0.000000</td>\n",
       "      <td>0.125664</td>\n",
       "      <td>0.000000</td>\n",
       "      <td>0.000000</td>\n",
       "      <td>1.000000</td>\n",
       "    </tr>\n",
       "    <tr>\n",
       "      <th>...</th>\n",
       "      <td>...</td>\n",
       "      <td>...</td>\n",
       "      <td>...</td>\n",
       "      <td>...</td>\n",
       "      <td>...</td>\n",
       "      <td>...</td>\n",
       "      <td>...</td>\n",
       "      <td>...</td>\n",
       "    </tr>\n",
       "    <tr>\n",
       "      <th>41147</th>\n",
       "      <td>102</td>\n",
       "      <td>347</td>\n",
       "      <td>199</td>\n",
       "      <td>1.602212</td>\n",
       "      <td>10.901326</td>\n",
       "      <td>-18.718316</td>\n",
       "      <td>-198.019072</td>\n",
       "      <td>-6.250741</td>\n",
       "    </tr>\n",
       "    <tr>\n",
       "      <th>41148</th>\n",
       "      <td>102</td>\n",
       "      <td>348</td>\n",
       "      <td>199</td>\n",
       "      <td>1.602212</td>\n",
       "      <td>10.932742</td>\n",
       "      <td>-12.489150</td>\n",
       "      <td>-198.509318</td>\n",
       "      <td>-6.250741</td>\n",
       "    </tr>\n",
       "    <tr>\n",
       "      <th>41149</th>\n",
       "      <td>102</td>\n",
       "      <td>349</td>\n",
       "      <td>200</td>\n",
       "      <td>1.602212</td>\n",
       "      <td>10.964158</td>\n",
       "      <td>-6.279054</td>\n",
       "      <td>-199.802673</td>\n",
       "      <td>-6.282151</td>\n",
       "    </tr>\n",
       "    <tr>\n",
       "      <th>41150</th>\n",
       "      <td>102</td>\n",
       "      <td>350</td>\n",
       "      <td>199</td>\n",
       "      <td>1.602212</td>\n",
       "      <td>10.995574</td>\n",
       "      <td>-0.000002</td>\n",
       "      <td>-198.901806</td>\n",
       "      <td>-6.250741</td>\n",
       "    </tr>\n",
       "    <tr>\n",
       "      <th>41151</th>\n",
       "      <td>102</td>\n",
       "      <td>351</td>\n",
       "      <td>198</td>\n",
       "      <td>1.602212</td>\n",
       "      <td>11.026990</td>\n",
       "      <td>6.216259</td>\n",
       "      <td>-197.804646</td>\n",
       "      <td>-6.219330</td>\n",
       "    </tr>\n",
       "  </tbody>\n",
       "</table>\n",
       "<p>41152 rows × 8 columns</p>\n",
       "</div>"
      ],
      "text/plain": [
       "         i    j    d        a0         a1          x           y         z\n",
       "0        0    0    5  0.000000   0.000000   0.000000    0.000000  5.000000\n",
       "1        0    1    1  0.000000   0.031416   0.000000    0.000000  1.000000\n",
       "2        0    2    5  0.000000   0.062832   0.000000    0.000000  5.000000\n",
       "3        0    3    1  0.000000   0.094248   0.000000    0.000000  1.000000\n",
       "4        0    4    1  0.000000   0.125664   0.000000    0.000000  1.000000\n",
       "...    ...  ...  ...       ...        ...        ...         ...       ...\n",
       "41147  102  347  199  1.602212  10.901326 -18.718316 -198.019072 -6.250741\n",
       "41148  102  348  199  1.602212  10.932742 -12.489150 -198.509318 -6.250741\n",
       "41149  102  349  200  1.602212  10.964158  -6.279054 -199.802673 -6.282151\n",
       "41150  102  350  199  1.602212  10.995574  -0.000002 -198.901806 -6.250741\n",
       "41151  102  351  198  1.602212  11.026990   6.216259 -197.804646 -6.219330\n",
       "\n",
       "[41152 rows x 8 columns]"
      ]
     },
     "execution_count": 74,
     "metadata": {},
     "output_type": "execute_result"
    }
   ],
   "source": [
    "df"
   ]
  },
  {
   "cell_type": "code",
   "execution_count": 75,
   "metadata": {},
   "outputs": [],
   "source": [
    "pcd = o3d.geometry.PointCloud()\n",
    "pcd.points = o3d.utility.Vector3dVector(data)"
   ]
  },
  {
   "cell_type": "code",
   "execution_count": 76,
   "metadata": {},
   "outputs": [],
   "source": [
    "o3d.visualization.draw_geometries([pcd])"
   ]
  },
  {
   "cell_type": "code",
   "execution_count": 37,
   "metadata": {},
   "outputs": [
    {
     "data": {
      "text/plain": [
       "<AxesSubplot:>"
      ]
     },
     "execution_count": 37,
     "metadata": {},
     "output_type": "execute_result"
    },
    {
     "data": {
      "image/png": "[encoded data removed]",
      "text/plain": [
       "<Figure size 1152x720 with 1 Axes>"
      ]
     },
     "metadata": {
      "needs_background": "light"
     },
     "output_type": "display_data"
    }
   ],
   "source": [
    "df['d'].plot(figsize=(16,10))"
   ]
  },
  {
   "cell_type": "code",
   "execution_count": null,
   "metadata": {},
   "outputs": [],
   "source": []
  },
  {
   "cell_type": "code",
   "execution_count": null,
   "metadata": {},
   "outputs": [],
   "source": []
  }
 ],
 "metadata": {
  "kernelspec": {
   "display_name": "Python 3",
   "language": "python",
   "name": "python3"
  },
  "language_info": {
   "codemirror_mode": {
    "name": "ipython",
    "version": 3
   },
   "file_extension": ".py",
   "mimetype": "text/x-python",
   "name": "python",
   "nbconvert_exporter": "python",
   "pygments_lexer": "ipython3",
   "version": "3.8.5"
  }
 },
 "nbformat": 4,
 "nbformat_minor": 4
}
